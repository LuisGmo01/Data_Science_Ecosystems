{
 "cells": [
  {
   "cell_type": "markdown",
   "id": "9f096c97-ca08-4ee2-9637-ef4239b3e2a4",
   "metadata": {},
   "source": [
    "# Data Science Tools and Ecosystem"
   ]
  },
  {
   "cell_type": "markdown",
   "id": "67309721-a340-4283-a2d1-d486a398bf4f",
   "metadata": {},
   "source": [
    "#### In this notebook, Data Science Tools and Ecosystem are sumarized."
   ]
  },
  {
   "cell_type": "markdown",
   "id": "5c066670-7588-4dac-b0a2-641fff984a61",
   "metadata": {},
   "source": [
    "#### Objectives:\n",
    "- List commonly used languages in data science.\n",
    "- Name popular libraries used by data scientists.\n",
    "- Identify data science tools\n",
    "- Apply some basic programming knowleadge to solve arithmetic problems\n"
   ]
  },
  {
   "cell_type": "markdown",
   "id": "2797b031-b801-49f3-87db-c506107b7520",
   "metadata": {},
   "source": [
    "##### Some of the popular languages that Data Scientist use are:\n",
    "\n",
    "1. python\n",
    "2. R\n",
    "3. SQL\n",
    "4. Julia"
   ]
  },
  {
   "cell_type": "markdown",
   "id": "9c4b9d6a-0532-4ca5-9c16-6cf615de577c",
   "metadata": {},
   "source": [
    "##### Some of the commonly used libraries used by Data Scientists include:\n",
    "\n",
    "1. numpy\n",
    "2. matplotlib\n",
    "3. pandas\n",
    "4. seaborn\n",
    "5. ggplot2\n",
    "6. ggally"
   ]
  },
  {
   "cell_type": "markdown",
   "id": "35e60ef4-2cf0-4eda-913e-ca80981deaab",
   "metadata": {},
   "source": [
    "| Data Science Tools |\n",
    "| ------------------ |\n",
    "| JupyterLab |\n",
    "| RStudio |\n",
    "| Github |"
   ]
  },
  {
   "cell_type": "markdown",
   "id": "ed58f134-e63a-4bd1-94c4-a1159f7697ec",
   "metadata": {},
   "source": [
    "### Below are a few examples of evaluating arithmetic expressions in Python"
   ]
  },
  {
   "cell_type": "code",
   "execution_count": 1,
   "id": "d06fe612-23b2-4999-9f6b-bb69238bf5ec",
   "metadata": {},
   "outputs": [
    {
     "data": {
      "text/plain": [
       "17"
      ]
     },
     "execution_count": 1,
     "metadata": {},
     "output_type": "execute_result"
    }
   ],
   "source": [
    "# This is a simple arithmetic expression to multiply then add integers\n",
    "\n",
    "(3*4)+5"
   ]
  },
  {
   "cell_type": "code",
   "execution_count": 2,
   "id": "7f5428c9-9636-4a57-b84b-b44276e6ecd4",
   "metadata": {},
   "outputs": [
    {
     "data": {
      "text/plain": [
       "3.3333333333333335"
      ]
     },
     "execution_count": 2,
     "metadata": {},
     "output_type": "execute_result"
    }
   ],
   "source": [
    "# This will convert 200 minuts to hours by dividing by 60.\n",
    "200/60"
   ]
  },
  {
   "cell_type": "markdown",
   "id": "8b71650f-b86e-4556-99c4-a024f7331972",
   "metadata": {},
   "source": [
    "## Author\n",
    "Luis Guillermo Villarreal Franco."
   ]
  },
  {
   "cell_type": "code",
   "execution_count": null,
   "id": "d4654cf0-c34e-4e06-81ae-dbbe4344dbea",
   "metadata": {},
   "outputs": [],
   "source": []
  }
 ],
 "metadata": {
  "kernelspec": {
   "display_name": "Python 3 (ipykernel)",
   "language": "python",
   "name": "python3"
  },
  "language_info": {
   "codemirror_mode": {
    "name": "ipython",
    "version": 3
   },
   "file_extension": ".py",
   "mimetype": "text/x-python",
   "name": "python",
   "nbconvert_exporter": "python",
   "pygments_lexer": "ipython3",
   "version": "3.8.10"
  }
 },
 "nbformat": 4,
 "nbformat_minor": 5
}
